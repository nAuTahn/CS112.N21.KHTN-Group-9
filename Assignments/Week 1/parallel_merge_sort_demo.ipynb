{
  "nbformat": 4,
  "nbformat_minor": 0,
  "metadata": {
    "colab": {
      "provenance": []
    },
    "kernelspec": {
      "name": "python3",
      "display_name": "Python 3"
    },
    "language_info": {
      "name": "python"
    }
  },
  "cells": [
    {
      "cell_type": "code",
      "execution_count": 1,
      "metadata": {
        "id": "oVF8e4U_dRVm"
      },
      "outputs": [],
      "source": [
        "from multiprocessing import Pool\n",
        "import time, random "
      ]
    },
    {
      "cell_type": "code",
      "source": [
        "def split(a, n):\n",
        "    # split array into n subarrays\n",
        "    k, m = divmod(len(a), n)\n",
        "    return (a[i*k+min(i, m):(i+1)*k+min(i+1, m)] for i in range(n))"
      ],
      "metadata": {
        "id": "5G8SJIU-df0q"
      },
      "execution_count": 2,
      "outputs": []
    },
    {
      "cell_type": "code",
      "source": [
        "def merge(arr_1, arr_2):\n",
        "    # merge 2 sorted arrays\n",
        "    merged = []\n",
        "    p1 = 0; p2 = 0\n",
        "    while (len(merged) != len(arr_1) + len(arr_2)):\n",
        "        # if all elements in arr_2 is merged or arr_1[p1] < arr_2[p2] then add arr_1[p1] to the merged arr and increase p1\n",
        "        if (p2 == len(arr_2)) or ((p1 < len(arr_1) and arr_1[p1] <= arr_2[p2])):\n",
        "            merged.append(arr_1[p1])\n",
        "            p1+= 1\n",
        "        # else add arr_2[p2] to the merged array and increase p2\n",
        "        else:\n",
        "            merged.append(arr_2[p2])\n",
        "            p2+= 1\n",
        " \n",
        "    return merged"
      ],
      "metadata": {
        "id": "HtL65uctdj_T"
      },
      "execution_count": 3,
      "outputs": []
    },
    {
      "cell_type": "code",
      "source": [
        "def merge_wrap(arr):\n",
        "    left, right = arr\n",
        "    return merge(left, right)"
      ],
      "metadata": {
        "id": "nqvfGuvrdmLP"
      },
      "execution_count": 4,
      "outputs": []
    },
    {
      "cell_type": "code",
      "source": [
        "def merge_sort(arr):\n",
        "    if len(arr) <= 1:\n",
        "        return arr\n",
        "    # split the array into 2 parts, sort each part, then merge them together\n",
        "    left, right = split(arr, 2)\n",
        "    return merge(merge_sort(left), merge_sort(right))"
      ],
      "metadata": {
        "id": "bWM28PeMdojs"
      },
      "execution_count": 5,
      "outputs": []
    },
    {
      "cell_type": "code",
      "source": [
        "def parallel_merge_sort(arr):\n",
        "    # number of processes\n",
        "    n_processes = 8\n",
        "    # create a pool\n",
        "    pool = Pool(processes=n_processes)\n",
        "    # split arr into parts\n",
        "    unsorted_parts = split(arr, n_processes)\n",
        "    # sort each part in parallel\n",
        "    sorted_parts = pool.map(merge_sort, unsorted_parts)\n",
        " \n",
        "    while (len(sorted_parts) > 1):\n",
        "        # split the array into contiguous pairs\n",
        "        pairs = [[sorted_parts[i], sorted_parts[i+1]]\n",
        "                 for i in range(0, len(sorted_parts)-1, 2)]\n",
        "        remain = []\n",
        "        # if the size of sorted_parts is odd, the last part is unmerged\n",
        "        if len(sorted_parts) % 2 == 1:\n",
        "            remain = sorted_parts[-1]\n",
        "        # merge each pair \n",
        "        sorted_parts = pool.map(merge_wrap, pairs)\n",
        "        # if the last part is unmerged, append it to the final array\n",
        "        if (len(remain)):\n",
        "            sorted_parts.append(remain)\n",
        " \n",
        " \n",
        "    return sorted_parts[0]"
      ],
      "metadata": {
        "id": "OQSwYicpdqWc"
      },
      "execution_count": 6,
      "outputs": []
    },
    {
      "cell_type": "code",
      "source": [
        "if __name__ == \"__main__\":\n",
        "    random.seed(222)\n",
        " \n",
        "    # get the size of array user input\n",
        "    n = int(input(\"Enter the size of array: \"))\n",
        " \n",
        "    # generate a 32-bit interger unsorted array\n",
        "    arr_unsorted = [random.randint(0, 1 << 31) for _ in range(n)]\n",
        " \n",
        "    # sort with sequential merge sort\n",
        "    start = time.time()\n",
        "    arr_sorted = merge_sort(arr_unsorted)\n",
        "    elapsed = time.time()\n",
        "    print(f\"Sequential merge sort: {elapsed - start} seconds\")\n",
        " \n",
        "    arr_sorted = []\n",
        "    time.sleep(1);\n",
        " \n",
        "    # sort with parallel merge sort\n",
        "    start = time.time()\n",
        "    arr_sorted = parallel_merge_sort(arr_unsorted)\n",
        "    elapsed = time.time()\n",
        "    print(f\"Parallel merge sort: {elapsed - start} seconds\")"
      ],
      "metadata": {
        "colab": {
          "base_uri": "https://localhost:8080/"
        },
        "id": "ceehAjqJdwUF",
        "outputId": "78369684-88fa-4268-ac4d-6fccddea5536"
      },
      "execution_count": 8,
      "outputs": [
        {
          "output_type": "stream",
          "name": "stdout",
          "text": [
            "Enter the size of array: 10000000\n",
            "Sequential merge sort: 154.88918614387512 seconds\n",
            "Parallel merge sort: 117.82186770439148 seconds\n"
          ]
        }
      ]
    }
  ]
}